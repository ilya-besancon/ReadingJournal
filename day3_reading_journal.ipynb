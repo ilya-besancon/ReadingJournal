{
 "cells": [
  {
   "cell_type": "markdown",
   "metadata": {},
   "source": [
    "# Day 3 Reading Journal\n",
    "\n",
    "This journal includes several required exercises, but it is meant to encourage active reading more generally.  You should use the journal to take detailed notes, catalog questions, and explore the content from Think Python deeply.\n",
    "\n",
    "Reading: Think Python Chapter 8, 10.1-10.6\n",
    "\n",
    "**Due: Thursday, January 26 at noon**\n",
    "\n"
   ]
  },
  {
   "cell_type": "markdown",
   "metadata": {},
   "source": [
    "## [Chapter 8](http://www.greenteapress.com/thinkpython2/html/thinkpython2009.html)\n",
    "\n",
    "Note: the exercise numbers below match up with the reading for ease of cross referencing."
   ]
  },
  {
   "cell_type": "markdown",
   "metadata": {},
   "source": [
    "### Chapter 8.3  \n",
    "\n",
    "Write a function that takes a string as an argument and displays the letters backward, one per line."
   ]
  },
  {
   "cell_type": "code",
   "execution_count": null,
   "metadata": {
    "collapsed": false
   },
   "outputs": [],
<<<<<<< HEAD
   "source": [
    "def str_back(word):\n",
    "    w = word\n",
    "    l = len(w)\n",
    "    l = len(w)\n",
    "    ind = -1\n",
    "    while 0 < (l + ind + 1):\n",
    "        letter = w[ind]\n",
    "        print(letter)\n",
    "        neg = -1\n",
    "        ind = ind + neg\n",
    "        \n",
    "        "
   ]
=======
   "source": []
>>>>>>> ce1e58a36163ad14341362c6d9c4b128b445b3f1
  },
  {
   "cell_type": "markdown",
   "metadata": {},
   "source": [
    "**Challenge (optional):** Write a function that translates words into [Pig Latin](https://en.wikipedia.org/wiki/Pig_Latin). \n",
    "\n",
    "**Challenge to the challenge**: Write a function that translates back into English."
   ]
  },
  {
   "cell_type": "code",
   "execution_count": null,
   "metadata": {
    "collapsed": true
   },
   "outputs": [],
   "source": [
    "def pig_latin(word):\n",
    "    \"\"\"\n",
    "    Return given 'word' translated into Pig Latin\n",
    "    \n",
    "    >>> pig_latin(\"software\")\n",
    "    'oftwaresay'\n",
    "    \"\"\"\n",
    "    pass #TODO: Implement me\n",
    "\n",
    "# If you'd like to actually run the doctests here, you can uncomment the lines below.\n",
    "# We use this slightly more complex method to test only the pig_latin function, without running tests on any other functions that may be in this notebook.\n",
    "#import doctest\n",
    "#doctest.run_docstring_examples(pig_latin, globals())"
   ]
  },
  {
   "cell_type": "markdown",
   "metadata": {},
   "source": [
    "### Chapter 8.7\n",
    "Encapsulate the character counting code in a fruitful function named `count` that accepts the string and the letter as arguments and returns the count."
   ]
  },
  {
   "cell_type": "code",
   "execution_count": null,
   "metadata": {
    "collapsed": true
   },
   "outputs": [],
<<<<<<< HEAD
   "source": [
    "def count(word, let):\n",
    "    l = word\n",
    "    a = let\n",
    "    count = 0\n",
    "    for letter in l:\n",
    "        if letter == a:\n",
    "            count = count + 1\n",
    "    print(count)\n",
    "\n",
    ">>> count('aspargus', 's')\n",
    "2\n"
   ]
=======
   "source": []
>>>>>>> ce1e58a36163ad14341362c6d9c4b128b445b3f1
  },
  {
   "cell_type": "markdown",
   "metadata": {},
   "source": [
    "### Exercise 8.1\n",
<<<<<<< HEAD
    "Skim the documentation of the Python [string methods](http://docs.python.org/2/library/stdtypes.html#string-methods). Play with them to make sure you understand how they work-- strip, replace, and upper/lower are particularly useful. Show us some of your experiments."
=======
    "Skim the documentation of the Python [string methods](http://docs.python.org/3/library/stdtypes.html#string-methods). Play with them to make sure you understand how they work-- strip, replace, and upper/lower are particularly useful. Show us some of your experiments."
>>>>>>> ce1e58a36163ad14341362c6d9c4b128b445b3f1
   ]
  },
  {
   "cell_type": "code",
   "execution_count": null,
   "metadata": {
    "collapsed": true
   },
   "outputs": [],
<<<<<<< HEAD
   "source": [
    ">>> word = '   blabla    '\n",
    ">>> word = word.strip()\n",
    ">>> word = word.strip('b')\n",
    ">>> print(word)\n",
    "labla\n",
    "\n",
    ">>> w= 'hello'\n",
    ">>> w = w + ' is good'\n",
    ">>> w = w.replace('h', 'j')\n",
    ">>> w = w.replace('good', 'great')\n",
    ">>> print(w)\n",
    "jello is great\n",
    "\n",
    ">>> a = 'jello is '\n",
    ">>> b = 'great'\n",
    ">>> a + b.upper()\n",
    "'jello is GREAT'\n"
   ]
=======
   "source": []
>>>>>>> ce1e58a36163ad14341362c6d9c4b128b445b3f1
  },
  {
   "cell_type": "markdown",
   "metadata": {},
   "source": [
    "### Exercise 8.4  \n",
    "\n",
    "The following functions are all intended to check whether a string contains any lowercase letters, but at least some of them are wrong. For each function, describe what the function actually does (assuming that the parameter is a string)."
   ]
  },
  {
   "cell_type": "code",
   "execution_count": null,
   "metadata": {
    "collapsed": true
   },
   "outputs": [],
   "source": [
    "def any_lowercase1(s):\n",
    "    for c in s:\n",
    "        if c.islower():\n",
    "            return True\n",
    "        else:\n",
<<<<<<< HEAD
    "            return False\n",
    "        \n",
    "#The function takes a string and for each letter checks if it is lowercase. \n",
    "#The result depends only on the first letter. If it's lowercase, function returns true.\n",
    "#If uppercase, function returns false."
=======
    "            return False"
>>>>>>> ce1e58a36163ad14341362c6d9c4b128b445b3f1
   ]
  },
  {
   "cell_type": "markdown",
   "metadata": {},
   "source": []
  },
  {
   "cell_type": "markdown",
   "metadata": {},
   "source": [
    " "
   ]
  },
  {
   "cell_type": "code",
   "execution_count": null,
   "metadata": {
    "collapsed": true
   },
   "outputs": [],
   "source": [
    "def any_lowercase2(s):\n",
    "    for c in s:\n",
    "        if 'c'.islower():\n",
    "            return 'True'\n",
    "        else:\n",
<<<<<<< HEAD
    "            return 'False'\n",
    "#Function always returns 'True' because 'c' is a lowercase string. It doesn't actually read the string, s."
=======
    "            return 'False'"
>>>>>>> ce1e58a36163ad14341362c6d9c4b128b445b3f1
   ]
  },
  {
   "cell_type": "markdown",
   "metadata": {},
   "source": []
  },
  {
   "cell_type": "markdown",
   "metadata": {},
   "source": [
    " "
   ]
  },
  {
   "cell_type": "code",
   "execution_count": null,
   "metadata": {
    "collapsed": true
   },
   "outputs": [],
   "source": [
    "def any_lowercase3(s):\n",
    "    for c in s:\n",
    "        flag = c.islower()\n",
<<<<<<< HEAD
    "    return flag\n",
    "\n",
    "#this program returns the result of the last letter only. \n",
    "#If the last letter is uppercase, returns false and vice, versa."
=======
    "    return flag"
>>>>>>> ce1e58a36163ad14341362c6d9c4b128b445b3f1
   ]
  },
  {
   "cell_type": "markdown",
   "metadata": {},
   "source": []
  },
  {
   "cell_type": "markdown",
   "metadata": {},
   "source": [
    " "
   ]
  },
  {
   "cell_type": "code",
   "execution_count": null,
   "metadata": {
    "collapsed": true
   },
   "outputs": [],
   "source": [
    "def any_lowercase4(s):\n",
    "    flag = False\n",
    "    for c in s:\n",
    "        flag = flag or c.islower()\n",
<<<<<<< HEAD
    "    return flag\n",
    "#if a single letter is lowercase, flag becomes true and stays that way. As long as there is a lowercase letter, \n",
    "#the function returns true"
=======
    "    return flag"
>>>>>>> ce1e58a36163ad14341362c6d9c4b128b445b3f1
   ]
  },
  {
   "cell_type": "markdown",
   "metadata": {},
   "source": []
  },
  {
   "cell_type": "markdown",
   "metadata": {},
   "source": [
    " "
   ]
  },
  {
   "cell_type": "code",
   "execution_count": null,
   "metadata": {
    "collapsed": true
   },
   "outputs": [],
   "source": [
    "def any_lowercase5(s):\n",
    "    for c in s:\n",
    "        if not c.islower():\n",
    "            return False\n",
<<<<<<< HEAD
    "    return True\n",
    "#The function will only return true after completing the for loop. If there isn't a single uppercase,\n",
    "#then it will return true. Otherwise, any uppercase triggers the \"if not\" condition, returning false."
=======
    "    return True"
>>>>>>> ce1e58a36163ad14341362c6d9c4b128b445b3f1
   ]
  },
  {
   "cell_type": "markdown",
   "metadata": {},
   "source": []
  },
  {
   "cell_type": "markdown",
   "metadata": {},
   "source": [
    " "
   ]
  },
  {
   "cell_type": "markdown",
   "metadata": {},
   "source": [
    "## [Chapter 10.1 - 10.6](http://www.greenteapress.com/thinkpython2/html/thinkpython2011.html)\n",
    "\n",
    "You may want to review [state diagrams in Chapter 2](http://www.greenteapress.com/thinkpython2/html/thinkpython2003.html#toc13).\n",
    "\n"
   ]
  },
  {
   "cell_type": "markdown",
   "metadata": {},
   "source": [
    "**Quick check:** What type of items can be placed in a list?"
   ]
  },
  {
   "cell_type": "markdown",
   "metadata": {},
<<<<<<< HEAD
   "source": [
    "all items"
   ]
=======
   "source": []
>>>>>>> ce1e58a36163ad14341362c6d9c4b128b445b3f1
  },
  {
   "cell_type": "markdown",
   "metadata": {},
   "source": [
    "**Quick check:** Give at least one similarity and one difference between lists and strings."
   ]
  },
  {
   "cell_type": "markdown",
   "metadata": {},
<<<<<<< HEAD
   "source": [
    "Strings can only hold characters. Both strings and lists can be combined with other strings and lists using addition."
   ]
=======
   "source": []
>>>>>>> ce1e58a36163ad14341362c6d9c4b128b445b3f1
  },
  {
   "cell_type": "markdown",
   "metadata": {},
   "source": [
    "### Exercise\n",
    "\n",
    "Write a Python function named `average` that takes a list of numbers and returns their arithmetic mean."
   ]
  },
  {
   "cell_type": "code",
   "execution_count": null,
   "metadata": {
    "collapsed": true
   },
   "outputs": [],
<<<<<<< HEAD
   "source": [
    "def average(list):\n",
    "    total = 0\n",
    "    for x in list:\n",
    "        total = total + x\n",
    "    y = len(list)\n",
    "    mean = total/y\n",
    "    return mean\n",
    "\n",
    ">>> average([3,3,3,3,3,4,5,6,7,8,9])\n",
    "4.909090909090909"
   ]
=======
   "source": []
>>>>>>> ce1e58a36163ad14341362c6d9c4b128b445b3f1
  },
  {
   "cell_type": "markdown",
   "metadata": {},
   "source": [
    "### Exercise\n",
    "You own a restaurant, and you need to keep up with the latest food fads or risk losing your fickle customers. You decide to write a Python function that adds the hot new ingredient _du jour_ to each of your regular menu items and returns the trendy new menu."
   ]
  },
  {
   "cell_type": "code",
   "execution_count": 6,
   "metadata": {
    "collapsed": false
   },
   "outputs": [],
   "source": [
    "def add_ingredient(menu, ingredient):\n",
    "    \"\"\"\n",
    "    Given a list of string 'menu' items and a trendy 'ingredient' string of the day,\n",
    "    return a new menu list of strings with the ingredient added to each.\n",
    "    \n",
    "    >>> add_ingredient([\"burger\", \"salad\", \"ice cream\"], \"kale\")\n",
    "    ['burger with kale', 'salad with kale', 'ice cream with kale']\n",
    "    \n",
    "    \"\"\"\n",
    "    pass    # TODO: Implement me\n",
    "\n",
    "# Running doctests in jupyter notebook:\n",
    "# If you'd like to actually run the doctests here, you can uncomment the lines below.\n",
    "# We use this slightly more complex method to test only the add_ingredient function,\n",
    "# without running tests on any other functions that may be in this notebook.\n",
    "\n",
    "#import doctest\n",
<<<<<<< HEAD
    "#doctest.run_docstring_examples(add_ingredient, globals(), verbose=True)\n",
    "\n",
    "\n",
    "\n",
    "def add_ingredient(menu, ingredient):\n",
    "    menu = ['sugar', 'brownies', 'stuff']\n",
    "    ingr = 'kale'\n",
    "    blankmenu = []\n",
    "    i = 0\n",
    "    while i < len(menu):\n",
    "        blankmenu.extend([menu[i] + ' with ' + ingredient])\n",
    "        i = i + 1\n",
    "    return blankmenu\n",
    ">>> add_ingredient(menu, ingr)\n",
    "['sugar with kale', 'brownies with kale', 'stuff with kale']"
=======
    "#doctest.run_docstring_examples(add_ingredient, globals(), verbose=True)"
>>>>>>> ce1e58a36163ad14341362c6d9c4b128b445b3f1
   ]
  },
  {
   "cell_type": "markdown",
   "metadata": {},
   "source": [
    "## Quick poll\n",
    "About how long did you spend working on this reading journal?"
   ]
  },
  {
   "cell_type": "markdown",
   "metadata": {},
<<<<<<< HEAD
   "source": [
    "4 hours"
   ]
=======
   "source": []
>>>>>>> ce1e58a36163ad14341362c6d9c4b128b445b3f1
  },
  {
   "cell_type": "markdown",
   "metadata": {},
   "source": [
    "## Reading Journal feedback\n",
    "\n",
    "Have any comments on this Reading Journal? Feel free to leave them below and we'll read them when you submit your journal entry. This could include suggestions to improve the exercises, topics you'd like to see covered in class next time, or other feedback.\n",
    "\n",
    "If you have Python questions or run into problems while completing the reading, you should post them to Piazza instead so you can get a quick response before your journal is submitted."
   ]
  },
  {
   "cell_type": "markdown",
   "metadata": {},
   "source": []
  },
  {
   "cell_type": "markdown",
   "metadata": {},
   "source": [
    " "
   ]
  }
 ],
 "metadata": {
  "kernelspec": {
   "display_name": "Python 3",
   "language": "python",
   "name": "python3"
  },
  "language_info": {
   "codemirror_mode": {
    "name": "ipython",
    "version": 3
   },
   "file_extension": ".py",
   "mimetype": "text/x-python",
   "name": "python",
   "nbconvert_exporter": "python",
   "pygments_lexer": "ipython3",
   "version": "3.5.2"
  }
 },
 "nbformat": 4,
 "nbformat_minor": 0
}
