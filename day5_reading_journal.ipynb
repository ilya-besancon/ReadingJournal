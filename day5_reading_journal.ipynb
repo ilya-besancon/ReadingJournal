{
 "cells": [
  {
   "cell_type": "markdown",
   "metadata": {},
   "source": [
    "# Day 5 Reading Journal\n",
    "\n",
    "This journal includes several required exercises, but it is meant to encourage active reading more generally.  You should use the journal to take detailed notes, catalog questions, and explore the content from Think Python deeply.\n",
    "\n",
    "Reading: Think Python Chapter 4\n",
    "\n",
    "**Due: Thursday, February 2 at 12 noon**\n",
    "\n"
   ]
  },
  {
   "cell_type": "markdown",
   "metadata": {},
   "source": [
    "## [Chapter 4](http://www.greenteapress.com/thinkpython2/html/thinkpython2005.html)\n",
    "\n",
    "In today's reading, you will be exploring the turtle module, which allows you to create images using turtle graphics. The turtle module is included in most Python installations, and you did a quick test with it during the Get Set assignment.\n",
    "\n",
    "### Turtle wrangling\n",
    "\n",
    "You can always run your code as separate Python scripts, but here are a few tips for mixing Turtle with Jupyter notebook:\n",
    "\n",
    " - Turtle will appear in a new GUI window, rather than inline in the notebook like typical results do\n",
    " - You will not be able to close the Turtle window unless you run `turtle.mainloop()` as the last line of your code."
   ]
  },
  {
   "cell_type": "markdown",
   "metadata": {},
   "source": [
    "### Get started\n",
    "\n",
    "Run the code in the cell below and make sure everything works. You should see brave Bob spring into the world and run forward. You can close the window when you're done by clicking on the 'X'. If this simple test doesn't work, check your Python3 install (especially if you get an `ImportError`) and ask for help."
   ]
  },
  {
   "cell_type": "code",
   "execution_count": null,
   "metadata": {
    "collapsed": false,
    "scrolled": false
   },
   "outputs": [],
   "source": [
    "import turtle\n",
    "\n",
    "# Create the world, and a turtle to put in it\n",
    "bob = turtle.Turtle()\n",
    "\n",
    "# Get moving, turtle!\n",
    "bob.fd(100)\n",
    "\n",
    "# Wait for the user to close the window\n",
    "turtle.exitonclick()\n",
    "turtle.TurtleScreen._Running = True"
   ]
  },
  {
   "cell_type": "markdown",
   "metadata": {
    "is_question": true,
    "problem": "Section 4.3"
   },
   "source": [
    "### Chapter 4.3\n",
    "Work through exercises 1-5 in Chapter 4.3, creating the `square`, `polygon`, `circle`, and `arc` functions. You can reference Allen's solutions, but please try the problems on your own first."
   ]
  },
  {
   "cell_type": "code",
   "execution_count": null,
   "metadata": {
    "collapsed": false,
    "solution": "Section 4.3"
   },
   "outputs": [],
   "source": [
    "1. \n",
    "import turtle\n",
    "bob = turtle.Turtle()\n",
    "\n",
    "\n",
    "def square(t):\n",
    "    # Create the world, and a turtle to put in it\n",
    "    # Turtle, make a square!!\n",
    "    for i in range(4):\n",
    "        t.fd(100)\n",
    "        t.lt(90)\n",
    "# bk = back, lt = left, rt = right (degrees)\n",
    "# Wait for the user to close the window\n",
    "    turtle.exitonclick()\n",
    "    turtle.TurtleScreen._Running = True"
   ]
  },
  {
   "cell_type": "code",
   "execution_count": null,
   "metadata": {
    "collapsed": true
   },
   "outputs": [],
   "source": [
    "2.\n",
    "import turtle\n",
    "\n",
    "\n",
    "def square(t, length):\n",
    "    # Create the world, and a turtle to put in it\n",
    "    # Turtle, make a square!!\n",
    "    for i in range(4):\n",
    "        t.fd(length)\n",
    "        t.lt(90)\n",
    "# bk = back, lt = left, rt = right (degrees)\n",
    "# Wait for the user to close the window\n",
    "    turtle.exitonclick()\n",
    "    turtle.TurtleScreen._Running = True\n",
    "\n",
    "\n",
    "if __name__ == '__main__':\n",
    "    bob = turtle.Turtle()\n",
    "    square(bob, 315)"
   ]
  },
  {
   "cell_type": "code",
   "execution_count": null,
   "metadata": {
    "collapsed": true
   },
   "outputs": [],
   "source": [
    "3.\n",
    "def polygon(t, length, n):\n",
    "    angle = 360/n\n",
    "    # Create the world, and a turtle to put in it\n",
    "    # Turtle, make a square!!\n",
    "    for i in range(n):\n",
    "        t.fd(length)\n",
    "        t.lt(angle)\n",
    "# bk = back, lt = left, rt = right (degrees)\n",
    "# Wait for the user to close the window\n",
    "    turtle.exitonclick()\n",
    "    turtle.TurtleScreen._Running = True\n",
    "\n",
    "\n",
    "if __name__ == '__main__':\n",
    "    bob = turtle.Turtle()\n",
    "    polygon(bob, 150, 6)\n"
   ]
  },
  {
   "cell_type": "code",
   "execution_count": null,
   "metadata": {
    "collapsed": true
   },
   "outputs": [],
   "source": [
    "4.\n",
    "import turtle\n",
    "\n",
    "\n",
    "def circle(t, r):\n",
    "    circum = 3.14 * r * 2\n",
    "    n = 100\n",
    "    length = circum / n\n",
    "    angle = 360/n\n",
    "    # Create the world, and a turtle to put in it\n",
    "    # Turtle, make a square!!\n",
    "    for i in range(n):\n",
    "        t.fd(length)\n",
    "        t.lt(angle)\n",
    "# bk = back, lt = left, rt = right (degrees)\n",
    "# Wait for the user to close the window\n",
    "    turtle.exitonclick()\n",
    "    turtle.TurtleScreen._Running = True\n",
    "\n",
    "\n",
    "if __name__ == '__main__':\n",
    "    bob = turtle.Turtle()\n",
    "    circle(bob, 200)"
   ]
  },
  {
   "cell_type": "code",
   "execution_count": null,
   "metadata": {
    "collapsed": true
   },
   "outputs": [],
   "source": [
    "5.\n",
    "def arc(t, r, maxangle):\n",
    "    circum = 3.14 * r * 2\n",
    "    ratio = maxangle/360\n",
    "    n = 100\n",
    "    length = ratio * circum / n\n",
    "    angle = maxangle/n\n",
    "    # Create the world, and a turtle to put in it\n",
    "    # Turtle, make a square!!\n",
    "    for i in range(n):\n",
    "        t.fd(length)\n",
    "        t.lt(angle)\n",
    "# bk = back, lt = left, rt = right (degrees)\n",
    "# Wait for the user to close the window\n",
    "    turtle.exitonclick()\n",
    "    turtle.TurtleScreen._Running = True\n",
    "\n",
    "\n",
    "if __name__ == '__main__':\n",
    "    bob = turtle.Turtle()\n",
    "    arc(bob, 100, 360)\n"
   ]
  },
  {
   "cell_type": "markdown",
   "metadata": {
    "is_question": true,
    "problem": "More fun"
   },
   "source": [
    "### Chapter 4.12\n",
    "#### More fun with Turtles!\n",
    "Complete at least one of Exercise 2, 3, 4, or 5. If you come up with some cool drawings you'd like to share with the rest of the class, let us know!"
   ]
  },
  {
   "cell_type": "code",
   "execution_count": null,
   "metadata": {
    "collapsed": true,
    "solution": "More fun"
   },
   "outputs": [],
   "source": [
    "Exercise 2.\n",
    "\n",
    "bob = turtle.Turtle()\n",
    "def arc(t, r, maxangle):\n",
    "    length = r\n",
    "    n = int(length / 10) + 1\n",
    "    angle = maxangle/n\n",
    "    # Create the world, and a turtle to put in it\n",
    "    # Turtle, make a square!!\n",
    "    for i in range(n):\n",
    "        t.fd(length/n)\n",
    "        t.lt(angle)\n",
    "# bk = back, lt = left, rt = right (degrees)\n",
    "# Wait for the user to close the window\n",
    "\n",
    "\n",
    "def petal(t, r, angle):\n",
    "    for i in range(2):\n",
    "        arc(t, r, angle)\n",
    "        t.lt(180-angle)\n",
    "\n",
    "\n",
    "def flowers(t, petals, r, angle):\n",
    "    turn_angle = 360/petals\n",
    "    for i in range(petals):\n",
    "        petal(t, r, angle)\n",
    "        t.lt(turn_angle)\n",
    "\n",
    "flowers(bob, 7, 100, 60)\n",
    "flowers(bob, 10, 150, 80)\n",
    "flowers(bob, 20, 130, 25)\n",
    "\n",
    "turtle.exitonclick()\n",
    "turtle.TurtleScreen._Running = Tru"
   ]
  },
  {
   "cell_type": "markdown",
   "metadata": {},
   "source": [
    "## Reading Journal feedback\n",
    "\n",
    "[Please complete this short survey](https://docs.google.com/forms/d/e/1FAIpQLScQekhUrf6YYjpfQiAAbavLIA-IJklv_PX1BWbGgxj7JPolmw/viewform?c=0&w=1)\n",
    "\n",
    "If you have any comments on this Reading Journal, feel free to leave them in the survey linked above. This could include suggestions to improve the exercises, topics you'd like to see covered in class next time, or other feedback.\n",
    "\n",
    "If you have Python questions or run into problems while completing the reading, you should post them to Piazza instead so you can get a quick response before your journal is submitted."
   ]
  },
  {
   "cell_type": "markdown",
   "metadata": {},
   "source": [
    " "
   ]
  }
 ],
 "metadata": {
  "kernelspec": {
   "display_name": "Python 3",
   "language": "python",
   "name": "python3"
  },
  "language_info": {
   "codemirror_mode": {
    "name": "ipython",
    "version": 3
   },
   "file_extension": ".py",
   "mimetype": "text/x-python",
   "name": "python",
   "nbconvert_exporter": "python",
   "pygments_lexer": "ipython3",
   "version": "3.5.2"
  }
 },
 "nbformat": 4,
 "nbformat_minor": 0
}
